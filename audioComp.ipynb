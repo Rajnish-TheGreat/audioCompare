{
  "nbformat": 4,
  "nbformat_minor": 0,
  "metadata": {
    "colab": {
      "name": "audioComp.ipynb",
      "provenance": [],
      "authorship_tag": "ABX9TyO4LXhVE+VfU9RAszQ+4Rwu",
      "include_colab_link": true
    },
    "kernelspec": {
      "name": "python3",
      "display_name": "Python 3"
    }
  },
  "cells": [
    {
      "cell_type": "markdown",
      "metadata": {
        "id": "view-in-github",
        "colab_type": "text"
      },
      "source": [
        "<a href=\"https://colab.research.google.com/github/Rajnish-TheGreat/audioCompare/blob/main/audioComp.ipynb\" target=\"_parent\"><img src=\"https://colab.research.google.com/assets/colab-badge.svg\" alt=\"Open In Colab\"/></a>"
      ]
    },
    {
      "cell_type": "code",
      "metadata": {
        "id": "6tufhAmhjFso"
      },
      "source": [
        "\"\"\"\r\n",
        "IMPORTS\r\n",
        "\"\"\"\r\n",
        "\r\n",
        "import pdb\r\n",
        "\r\n",
        "import librosa\r\n",
        "from librosa.feature import chroma_stft\r\n",
        "import librosa.display\r\n",
        "\r\n",
        "import numpy as np\r\n",
        "import pandas as pd\r\n",
        "\r\n",
        "from scipy.stats import ttest_ind\r\n",
        "\r\n",
        "import matplotlib.pyplot as plt\r\n",
        "import matplotlib.patheffects as path_effects\r\n",
        "\r\n",
        "import seaborn as sns\r\n",
        "\r\n",
        "\"\"\"\r\n",
        "AUDIO ANALYZER CLASS\r\n",
        "==========================================================================================================\r\n",
        "\"\"\"\r\n",
        "\r\n",
        "class AudioAnalyzer:\r\n",
        "    \r\n",
        "    def __init__(self, filename, fft_size=256, input_sr=41000, analyze=True):\r\n",
        "        \"\"\"\r\n",
        "        Loads in and transform sample data from an audio file into a pandas dataframe for analysis and graphing\r\n",
        "        \r\n",
        "        Input: \r\n",
        "            filename: relative path to audio file\r\n",
        "            fft_size: The number of frequency bins for the fft analysis. Defaults to 256\r\n",
        "            input_sr: the sample rate of the input audio file. Defaults to 41000\r\n",
        "        \"\"\"\r\n",
        "        y, sr = librosa.load(filename, sr=input_sr)\r\n",
        "        self.y = y\r\n",
        "        self.sr = sr\r\n",
        "        self.fft_size = fft_size\r\n",
        "        if analyze:\r\n",
        "            self.spectrum_analysis()\r\n",
        "        \r\n",
        "    def change_fft_bin_size(self, size):\r\n",
        "        \"\"\"\r\n",
        "           Optionally changes the number of fft bins after initialization.\r\n",
        "        \"\"\"\r\n",
        "        self.fft_size = size\r\n",
        "        self.spectrum_analysis()\r\n",
        "        \r\n",
        "    def spectrum_analysis(self):\r\n",
        "        \"\"\"\r\n",
        "        Runs spectrum analysis on the input audio file. Sets and returns a dataframe with frequency information across all fft bins. \r\n",
        "        Amplitudes are averaged at each frequency.\r\n",
        "        Note: This method must be called before any analysis or plotting can be done on the class instance. \r\n",
        "        \"\"\"\r\n",
        "        self.df = pd.DataFrame(np.abs(librosa.stft(self.y, n_fft=self.fft_size)))\r\n",
        "        \r\n",
        "        bins = librosa.fft_frequencies(sr=self.sr, n_fft=self.fft_size)\r\n",
        "        \r\n",
        "        self.df['bins'] = bins / 1000. # divide by 1000 lets us display in kHz\r\n",
        "        \r\n",
        "        self.df['average_amplitude'] = self.df.mean(axis=1)\r\n",
        "        self.df = self.df[['bins', 'average_amplitude']]\r\n",
        "        return self.df\r\n",
        "    \r\n",
        "    def plot_spectrum(self, min_freq=0, max_freq=None, fill=False, title=\"Spectrogram - Average Frequency\"):\r\n",
        "        \r\n",
        "        \"\"\"\r\n",
        "        Plots a single spectrogram of averaged frequencies across all fft bins. Uses the generated dataframe as the source. \r\n",
        "        \"\"\"\r\n",
        "        \r\n",
        "        max_freq = max_freq or 20000.\r\n",
        "        window = self.df.loc[(self.df.bins * 1000. >= min_freq) & (self.df.bins * 1000. <= max_freq)].copy()\r\n",
        "        window['scaled_amplitude'] = np.interp(window.average_amplitude, (0., max(window.average_amplitude)), (0., 1.))\r\n",
        "        window.plot(x='bins', y='scaled_amplitude', figsize=(16,4))\r\n",
        "        if fill:            \r\n",
        "            plt.fill_between(self.df.bins, self.df.average_amplitude)\r\n",
        "        \r\n",
        "        legend = plt.legend()\r\n",
        "        legend.remove()\r\n",
        "        plt.xlabel(\"Frequency (kHz)\", fontsize=20)\r\n",
        "        plt.ylabel(\"Amplitude (scaled)\", fontsize=20)\r\n",
        "        plt.title(title, fontsize=26)\r\n",
        "\r\n",
        "\r\n",
        "\r\n",
        "\"\"\"\r\n",
        "SIGNAL COMPARE CLASS\r\n",
        "==========================================================================================================\r\n",
        "\"\"\"        \r\n",
        "        \r\n",
        "        \r\n",
        "class SpectrumCompare():\r\n",
        "    \r\n",
        "    def __init__(self, original, modified):\r\n",
        "        \"\"\"\r\n",
        "        Compares the frequency and amplitude information of two AudioAnalyzer class instances. \r\n",
        "        \r\n",
        "        Input:\r\n",
        "            original, modified: the two AudioAnalyzer class instances.\r\n",
        "        \"\"\"\r\n",
        "        self.original_df = original.df\r\n",
        "        self.modified_df = modified.df\r\n",
        "        \r\n",
        "        self.dfs = [self.original_df, self.modified_df]\r\n",
        "        \r\n",
        "        self.get_max_average(self)\r\n",
        "        self.scale_amplitudes(self)\r\n",
        "        self.get_ratio_df(self)\r\n",
        "    \r\n",
        "    def plot_spectrum_group(self,\r\n",
        "                            spec_1=True,\r\n",
        "                            spec_2=True,\r\n",
        "                            title=\"Comparison of Frequency Amplitudes\",\r\n",
        "                            xlabel=\"Frequency (kHz)\",\r\n",
        "                            ylabel=\"Scaled Amplitude\",                             \r\n",
        "                            frange=None,\r\n",
        "                            ratio=False,\r\n",
        "                            legend=[\"Spectrum 1\", \"Spectrum 2\", \"Signal Diff.\", \"Threshold\"],\r\n",
        "                            threshold=False,\r\n",
        "                          \r\n",
        "                           ):\r\n",
        "        \"\"\"\r\n",
        "        Plots a spectrogram comparing the frequencies and relative amplitudes at each fft bin of the two AudioAnalyzer class instances. \r\n",
        "        Plots up to four lines:\r\n",
        "            first AudioAnalyzer class instance - frequency and amplitude\r\n",
        "            Second AudioAnalyzer class instance - frequency and amplitude\r\n",
        "            Difference in amplitude at each bin\r\n",
        "            Threshold - Shows where the first or second AudioAnlyzer amplitude is greater (relative hot or old spots)\r\n",
        "        \"\"\"\r\n",
        "        \r\n",
        "        dfs = self.dfs.copy()\r\n",
        "        fig = plt.figure(figsize=(16,8))\r\n",
        "        \r\n",
        "        if frange:\r\n",
        "            for i, df in enumerate(dfs):\r\n",
        "                dfs[i] = df.loc[(df.bins * 1000. >= frange[0]) & (df.bins * 1000. <= frange[1])]\r\n",
        "        else:\r\n",
        "            dfs = self.dfs\r\n",
        "        \r\n",
        "        \r\n",
        "        if spec_1: plt.plot(dfs[0].bins, dfs[0].scaled_amplitude, label=legend[0], c=\"steelblue\")\r\n",
        "        if spec_2: plt.plot(dfs[1].bins, dfs[1].scaled_amplitude, label=legend[1], c=\"coral\")\r\n",
        "\r\n",
        "        if ratio:\r\n",
        "            if frange:                \r\n",
        "                ratio_df = self.ratio_df[(self.ratio_df.bins * 1000. >= frange[0]) & (self.ratio_df.bins * 1000. <= frange[1])]\r\n",
        "                plt.plot(ratio_df['bins'], ratio_df['scaled_amplitude'], label=legend[2], c=\"forestgreen\", linestyle=\"-.\")\r\n",
        "            else:\r\n",
        "                plt.plot(self.ratio_df['bins'], self.ratio_df['scaled_amplitude'], label=legend[2], c=\"forestgreen\")\r\n",
        "        \r\n",
        "        if threshold and frange:\r\n",
        "            plt.plot([frange[0] / 1000, frange[1] / 1000], [0.5, 0.5], linestyle=\"--\", label=legend[3], c=\"r\")\r\n",
        "        \r\n",
        "        plt.title(title, fontsize=24)\r\n",
        "        plt.xlabel(xlabel, fontsize=20)\r\n",
        "        plt.ylabel(ylabel, fontsize=20) \r\n",
        "        plt.legend(fontsize=14)\r\n",
        "        return dfs\r\n",
        "        \r\n",
        "    def plot_spectrum_heatmap(self, \r\n",
        "                               plot_spec1=True,\r\n",
        "                               frange=[], \r\n",
        "                               title=\"Audio Comparison\", \r\n",
        "                               cmap=\"plasma\",\r\n",
        "                               background_color=\"white\",\r\n",
        "                               background_alpha=0.5\r\n",
        "                              ):\r\n",
        "        \"\"\"\r\n",
        "        Plots a heatmap and spectrogram showing the relative hot and cool spots of thw two compared AudioAnalyzer class instances. \r\n",
        "        A number of options are available to customize the appearance of the generated plot. \r\n",
        "        \"\"\"\r\n",
        "        \r\n",
        "#       DATAFRAME SETUP\r\n",
        "        if plot_spec1:\r\n",
        "            df = self.original_df\r\n",
        "        else:\r\n",
        "            df = self.modified_df            \r\n",
        "\r\n",
        "        df['ratio_amplitude'] = self.ratio_df.scaled_amplitude\r\n",
        "\r\n",
        "        df['attenuated_scaled'] = df.scaled_amplitude\r\n",
        "        df['boosted_scaled'] = df.scaled_amplitude\r\n",
        "        \r\n",
        "        if len(frange):\r\n",
        "            plot_df = df.loc[(df.bins >= frange[0] / 1000) & (df.bins <= frange[1] / 1000)]\r\n",
        "            ratio_df = self.ratio_df.loc[(self.ratio_df.bins >= frange[0] / 1000) & (self.ratio_df.bins <= frange[1] / 1000)] \r\n",
        "        else:\r\n",
        "            plot_df = df\r\n",
        "            ratio_df = self.ratio_df\r\n",
        "        \r\n",
        "#       FIGURE SETUP\r\n",
        "        fig = plt.figure(figsize=(20,10))\r\n",
        "        ax1 = fig.add_subplot(211, facecolor=\"white\")\r\n",
        "        # ax1 = plt.subplot2grid((8,1), (0,0), rowspan=5, facecolor=\"white\", fig=fig)\r\n",
        "        ax2 = fig.add_subplot(211, facecolor=\"#00000000\")\r\n",
        "        # ax2 = plt.subplot2grid((8,1), (0,0), rowspan=2, facecolor=\"#00000000\", fig=fig)\r\n",
        "        # fig2 = plt.figure(figsize=(32, 8))\r\n",
        "        # cbaxes = fig2.add_subplot(32,1,1) \r\n",
        "        cbaxes = plt.subplot2grid((16,1), (10,0)) \r\n",
        "        cbaxes.set_title(\"Scaled Amplitude Ratio\", size=14)\r\n",
        "        \r\n",
        "#       HEATMAP PLOT\r\n",
        "        sns.heatmap(data=ratio_df.set_index('bins').transpose(), cbar=True, cbar_ax=cbaxes, cbar_kws={\"orientation\" : \"horizontal\"}, cmap=cmap, alpha=0.95, zorder=1, ax=ax1, vmin=0.0, vmax=1.0)\r\n",
        "        ax1.set_xlabel(\"\")\r\n",
        "        ax1.set_xticks([])\r\n",
        "        ax1.set_ylabel(\"\")\r\n",
        "        ax1.set_yticks([])\r\n",
        "\r\n",
        "#       FREQUENCY PLOT        \r\n",
        "        sns.lineplot(data=plot_df, x=\"bins\", y=\"scaled_amplitude\", color='black', zorder=10, ax=ax2, path_effects=[path_effects.SimpleLineShadow(), path_effects.Normal()])\r\n",
        "        ax2.fill_between(x=plot_df.bins, y1=plot_df.scaled_amplitude, color='white', alpha=0.0)\r\n",
        "        ax2.fill_between(x=plot_df.bins, y1=plot_df.scaled_amplitude, y2=1.0, color=background_color, alpha=background_alpha)\r\n",
        "\r\n",
        "        ax2.set_xlabel(\"Frequency (kHz)\", size=28)\r\n",
        "        ax2.set_ylabel(\"Scaled Amplitude\", size=28)     \r\n",
        "        \r\n",
        "        ax2.margins(0)\r\n",
        "        fig.suptitle(title, size=36, y=0.95)\r\n",
        "        return pd.DataFrame(data=plot_df)\r\n",
        "    \r\n",
        "    def plot_amplitude_distributions(self, \r\n",
        "                                    n=10000, \r\n",
        "                                    size=1000,\r\n",
        "                                    title=\"Amplitude Distributions\",\r\n",
        "                                    xlabel=\"Average Amplitude (unscaled)\",\r\n",
        "                                    ylabel=\"Density\"\r\n",
        "                                    ):\r\n",
        "        amp1 = self.dfs[0].scaled_amplitude\r\n",
        "        amp2 = self.dfs[1].scaled_amplitude\r\n",
        "\r\n",
        "        samples_1 = []\r\n",
        "        samples_2 = []\r\n",
        "\r\n",
        "        for i in range(size):\r\n",
        "            samples_1.append(np.random.choice(amp1, size=size).mean())\r\n",
        "            samples_2.append(np.random.choice(amp2, size=size).mean())\r\n",
        "\r\n",
        "        plt.figure(figsize=(8,6))\r\n",
        "\r\n",
        "        sns.distplot(samples_1)\r\n",
        "        sns.distplot(samples_2)\r\n",
        "\r\n",
        "        plt.title(title, fontsize=18)\r\n",
        "        plt.xlabel(xlabel, fontsize=14)\r\n",
        "        plt.ylabel(ylabel, fontsize=14)\r\n",
        "\r\n",
        "        t_stat, p_val = ttest_ind(samples_1, samples_2, equal_var=False)\r\n",
        "        return pd.DataFrame([[t_stat, p_val]], columns=[\"T-Statistic\", \"P-Value\"])\r\n",
        "\r\n",
        "\r\n",
        "    @staticmethod\r\n",
        "    def get_max_average(self):\r\n",
        "        max_average = 0\r\n",
        "        for df in self.dfs:\r\n",
        "            cur_max = df.average_amplitude.max()\r\n",
        "            max_average = cur_max if cur_max > max_average else max_average\r\n",
        "        \r\n",
        "        self.max_average = max_average\r\n",
        "    \r\n",
        "    @staticmethod\r\n",
        "    def scale_amplitudes(self):        \r\n",
        "        scaled_dfs = []\r\n",
        "        for df in self.dfs:\r\n",
        "            averaged = df['average_amplitude']\r\n",
        "            df['scaled_amplitude'] = np.interp(averaged, (0., self.max_average), (0., 1.)) \r\n",
        "            scaled_dfs.append(df)            \r\n",
        "        self.original_df, self.modified_df = scaled_dfs\r\n",
        "        \r\n",
        "    @staticmethod\r\n",
        "    def get_ratio_df(self):\r\n",
        "        \r\n",
        "        orig_scaled = self.original_df.scaled_amplitude\r\n",
        "        mod_scaled = self.modified_df.scaled_amplitude\r\n",
        "        \r\n",
        "        self.ratio_df = pd.DataFrame((mod_scaled - orig_scaled) + 0.5)\r\n",
        "        self.ratio_df['bins'] = self.original_df.bins\r\n",
        "        \r\n",
        "        self.ratio_df.loc[self.ratio_df.scaled_amplitude > 1.0, ['scaled_amplitude']] = 1.0\r\n",
        "        self.ratio_df.loc[self.ratio_df.scaled_amplitude < 0.0, ['scaled_amplitude']] = 0.0"
      ],
      "execution_count": 282,
      "outputs": []
    },
    {
      "cell_type": "code",
      "metadata": {
        "id": "co2IAVr1jKmp",
        "colab": {
          "base_uri": "https://localhost:8080/"
        },
        "outputId": "673958ca-8dab-496e-eb6a-3a64d7a5286f"
      },
      "source": [
        "import time \r\n",
        "time_start = time.time()\r\n",
        "a = AudioAnalyzer(\"guitar1.mpeg\")"
      ],
      "execution_count": 283,
      "outputs": [
        {
          "output_type": "stream",
          "text": [
            "/usr/local/lib/python3.7/dist-packages/librosa/core/audio.py:162: UserWarning: PySoundFile failed. Trying audioread instead.\n",
            "  warnings.warn(\"PySoundFile failed. Trying audioread instead.\")\n"
          ],
          "name": "stderr"
        }
      ]
    },
    {
      "cell_type": "code",
      "metadata": {
        "id": "2m17AJBgHp6_",
        "colab": {
          "base_uri": "https://localhost:8080/"
        },
        "outputId": "8781e136-ffdc-424a-c03d-a3d70e526f42"
      },
      "source": [
        "b = AudioAnalyzer(\"guitar2.mpeg\")"
      ],
      "execution_count": 284,
      "outputs": [
        {
          "output_type": "stream",
          "text": [
            "/usr/local/lib/python3.7/dist-packages/librosa/core/audio.py:162: UserWarning: PySoundFile failed. Trying audioread instead.\n",
            "  warnings.warn(\"PySoundFile failed. Trying audioread instead.\")\n"
          ],
          "name": "stderr"
        }
      ]
    },
    {
      "cell_type": "code",
      "metadata": {
        "id": "Xc8IEwydIxD2"
      },
      "source": [
        "c = SpectrumCompare(a,b)"
      ],
      "execution_count": 285,
      "outputs": []
    },
    {
      "cell_type": "code",
      "metadata": {
        "id": "KS32tHaXI5rn",
        "colab": {
          "base_uri": "https://localhost:8080/",
          "height": 825
        },
        "outputId": "1ad5ed0f-b554-466a-efa1-25842d4424ac"
      },
      "source": [
        "c.plot_spectrum_heatmap()"
      ],
      "execution_count": 286,
      "outputs": [
        {
          "output_type": "execute_result",
          "data": {
            "text/html": [
              "<div>\n",
              "<style scoped>\n",
              "    .dataframe tbody tr th:only-of-type {\n",
              "        vertical-align: middle;\n",
              "    }\n",
              "\n",
              "    .dataframe tbody tr th {\n",
              "        vertical-align: top;\n",
              "    }\n",
              "\n",
              "    .dataframe thead th {\n",
              "        text-align: right;\n",
              "    }\n",
              "</style>\n",
              "<table border=\"1\" class=\"dataframe\">\n",
              "  <thead>\n",
              "    <tr style=\"text-align: right;\">\n",
              "      <th></th>\n",
              "      <th>bins</th>\n",
              "      <th>average_amplitude</th>\n",
              "      <th>scaled_amplitude</th>\n",
              "      <th>ratio_amplitude</th>\n",
              "      <th>attenuated_scaled</th>\n",
              "      <th>boosted_scaled</th>\n",
              "    </tr>\n",
              "  </thead>\n",
              "  <tbody>\n",
              "    <tr>\n",
              "      <th>0</th>\n",
              "      <td>0.000000</td>\n",
              "      <td>6.045594</td>\n",
              "      <td>0.570829</td>\n",
              "      <td>0.582068</td>\n",
              "      <td>0.570829</td>\n",
              "      <td>0.570829</td>\n",
              "    </tr>\n",
              "    <tr>\n",
              "      <th>1</th>\n",
              "      <td>0.160156</td>\n",
              "      <td>9.806274</td>\n",
              "      <td>0.925915</td>\n",
              "      <td>0.574085</td>\n",
              "      <td>0.925915</td>\n",
              "      <td>0.925915</td>\n",
              "    </tr>\n",
              "    <tr>\n",
              "      <th>2</th>\n",
              "      <td>0.320312</td>\n",
              "      <td>8.508127</td>\n",
              "      <td>0.803343</td>\n",
              "      <td>0.528799</td>\n",
              "      <td>0.803343</td>\n",
              "      <td>0.803343</td>\n",
              "    </tr>\n",
              "    <tr>\n",
              "      <th>3</th>\n",
              "      <td>0.480469</td>\n",
              "      <td>3.643975</td>\n",
              "      <td>0.344067</td>\n",
              "      <td>0.539663</td>\n",
              "      <td>0.344067</td>\n",
              "      <td>0.344067</td>\n",
              "    </tr>\n",
              "    <tr>\n",
              "      <th>4</th>\n",
              "      <td>0.640625</td>\n",
              "      <td>1.851817</td>\n",
              "      <td>0.174850</td>\n",
              "      <td>0.511888</td>\n",
              "      <td>0.174850</td>\n",
              "      <td>0.174850</td>\n",
              "    </tr>\n",
              "    <tr>\n",
              "      <th>...</th>\n",
              "      <td>...</td>\n",
              "      <td>...</td>\n",
              "      <td>...</td>\n",
              "      <td>...</td>\n",
              "      <td>...</td>\n",
              "      <td>...</td>\n",
              "    </tr>\n",
              "    <tr>\n",
              "      <th>124</th>\n",
              "      <td>19.859375</td>\n",
              "      <td>0.003061</td>\n",
              "      <td>0.000289</td>\n",
              "      <td>0.500005</td>\n",
              "      <td>0.000289</td>\n",
              "      <td>0.000289</td>\n",
              "    </tr>\n",
              "    <tr>\n",
              "      <th>125</th>\n",
              "      <td>20.019531</td>\n",
              "      <td>0.003082</td>\n",
              "      <td>0.000291</td>\n",
              "      <td>0.500005</td>\n",
              "      <td>0.000291</td>\n",
              "      <td>0.000291</td>\n",
              "    </tr>\n",
              "    <tr>\n",
              "      <th>126</th>\n",
              "      <td>20.179688</td>\n",
              "      <td>0.003127</td>\n",
              "      <td>0.000295</td>\n",
              "      <td>0.500005</td>\n",
              "      <td>0.000295</td>\n",
              "      <td>0.000295</td>\n",
              "    </tr>\n",
              "    <tr>\n",
              "      <th>127</th>\n",
              "      <td>20.339844</td>\n",
              "      <td>0.003144</td>\n",
              "      <td>0.000297</td>\n",
              "      <td>0.500005</td>\n",
              "      <td>0.000297</td>\n",
              "      <td>0.000297</td>\n",
              "    </tr>\n",
              "    <tr>\n",
              "      <th>128</th>\n",
              "      <td>20.500000</td>\n",
              "      <td>0.003151</td>\n",
              "      <td>0.000298</td>\n",
              "      <td>0.500005</td>\n",
              "      <td>0.000298</td>\n",
              "      <td>0.000298</td>\n",
              "    </tr>\n",
              "  </tbody>\n",
              "</table>\n",
              "<p>129 rows × 6 columns</p>\n",
              "</div>"
            ],
            "text/plain": [
              "          bins  average_amplitude  ...  attenuated_scaled  boosted_scaled\n",
              "0     0.000000           6.045594  ...           0.570829        0.570829\n",
              "1     0.160156           9.806274  ...           0.925915        0.925915\n",
              "2     0.320312           8.508127  ...           0.803343        0.803343\n",
              "3     0.480469           3.643975  ...           0.344067        0.344067\n",
              "4     0.640625           1.851817  ...           0.174850        0.174850\n",
              "..         ...                ...  ...                ...             ...\n",
              "124  19.859375           0.003061  ...           0.000289        0.000289\n",
              "125  20.019531           0.003082  ...           0.000291        0.000291\n",
              "126  20.179688           0.003127  ...           0.000295        0.000295\n",
              "127  20.339844           0.003144  ...           0.000297        0.000297\n",
              "128  20.500000           0.003151  ...           0.000298        0.000298\n",
              "\n",
              "[129 rows x 6 columns]"
            ]
          },
          "metadata": {
            "tags": []
          },
          "execution_count": 286
        },
        {
          "output_type": "display_data",
          "data": {
            "image/png": "[encoded data removed]",
            "text/plain": [
              "<Figure size 1440x720 with 3 Axes>"
            ]
          },
          "metadata": {
            "tags": [],
            "needs_background": "light"
          }
        }
      ]
    },
    {
      "cell_type": "code",
      "metadata": {
        "colab": {
          "base_uri": "https://localhost:8080/",
          "height": 314
        },
        "id": "JoXrfHx8FG0L",
        "outputId": "86b76920-0c07-49da-9174-2e4b5237a4e8"
      },
      "source": [
        "a.plot_spectrum(min_freq=20, max_freq=1000, title=\"tune1\")"
      ],
      "execution_count": 287,
      "outputs": [
        {
          "output_type": "display_data",
          "data": {
            "image/png": "[encoded data removed]",
            "text/plain": [
              "<Figure size 1152x288 with 1 Axes>"
            ]
          },
          "metadata": {
            "tags": [],
            "needs_background": "light"
          }
        }
      ]
    },
    {
      "cell_type": "code",
      "metadata": {
        "colab": {
          "base_uri": "https://localhost:8080/",
          "height": 314
        },
        "id": "AuXo9f_mGP_r",
        "outputId": "3f2f9d7e-1f8a-4d68-bcc2-c103c506d7e7"
      },
      "source": [
        "b.plot_spectrum(min_freq=20, max_freq=1000, title=\"tune1\")"
      ],
      "execution_count": 288,
      "outputs": [
        {
          "output_type": "display_data",
          "data": {
            "image/png": "[encoded data removed]",
            "text/plain": [
              "<Figure size 1152x288 with 1 Axes>"
            ]
          },
          "metadata": {
            "tags": [],
            "needs_background": "light"
          }
        }
      ]
    },
    {
      "cell_type": "code",
      "metadata": {
        "colab": {
          "base_uri": "https://localhost:8080/",
          "height": 830
        },
        "id": "x0IrukS3GTZO",
        "outputId": "92f5b277-fb1b-4a34-d33b-cfbf27238991"
      },
      "source": [
        "c.plot_spectrum_group(\r\n",
        "    frange=(0,1000), \r\n",
        "    title=\"Spectrograms - original vs 2009 remaster\", \r\n",
        "    legend=(\"Original\", \"Remaster\")\r\n",
        "    )"
      ],
      "execution_count": 319,
      "outputs": [
        {
          "output_type": "execute_result",
          "data": {
            "text/plain": [
              "[       bins  average_amplitude  ...  attenuated_scaled  boosted_scaled\n",
              " 0  0.000000           6.045594  ...           0.570829        0.570829\n",
              " 1  0.160156           9.806274  ...           0.925915        0.925915\n",
              " 2  0.320312           8.508127  ...           0.803343        0.803343\n",
              " 3  0.480469           3.643975  ...           0.344067        0.344067\n",
              " 4  0.640625           1.851817  ...           0.174850        0.174850\n",
              " 5  0.800781           1.052861  ...           0.099412        0.099412\n",
              " 6  0.960938           0.937132  ...           0.088485        0.088485\n",
              " \n",
              " [7 rows x 6 columns],        bins  average_amplitude  scaled_amplitude\n",
              " 0  0.000000           6.914771          0.652897\n",
              " 1  0.160156          10.590899          1.000000\n",
              " 2  0.320312           8.813135          0.832142\n",
              " 3  0.480469           4.064044          0.383730\n",
              " 4  0.640625           1.977722          0.186738\n",
              " 5  0.800781           1.121629          0.105905\n",
              " 6  0.960938           0.803054          0.075825]"
            ]
          },
          "metadata": {
            "tags": []
          },
          "execution_count": 319
        },
        {
          "output_type": "display_data",
          "data": {
            "image/png": "[encoded data removed]",
            "text/plain": [
              "<Figure size 1152x576 with 1 Axes>"
            ]
          },
          "metadata": {
            "tags": [],
            "needs_background": "light"
          }
        }
      ]
    },
    {
      "cell_type": "code",
      "metadata": {
        "id": "FzEbj_LOGrRQ",
        "colab": {
          "base_uri": "https://localhost:8080/",
          "height": 531
        },
        "outputId": "8721012e-24d5-4c0d-eb2f-a36108c2df69"
      },
      "source": [
        "avg_amp = c.plot_spectrum_group(\r\n",
        "    frange=(0,1000), \r\n",
        "    ratio=True, \r\n",
        "    threshold=True,\r\n",
        "    # spec_1=False,\r\n",
        "    # spec_2=False,\r\n",
        "    title=\"Spectrograms - original vs changed (with threshold)\", \r\n",
        "    legend=(\"Audio1\", \"Audio2\", \"Amplitude Diff.\", \"Threshold\")\r\n",
        "    )"
      ],
      "execution_count": 290,
      "outputs": [
        {
          "output_type": "display_data",
          "data": {
            "image/png": "[encoded data removed]",
            "text/plain": [
              "<Figure size 1152x576 with 1 Axes>"
            ]
          },
          "metadata": {
            "tags": [],
            "needs_background": "light"
          }
        }
      ]
    },
    {
      "cell_type": "code",
      "metadata": {
        "id": "6txe1AEk0PZU",
        "colab": {
          "base_uri": "https://localhost:8080/"
        },
        "outputId": "a24eeaf2-9d9c-4054-84d1-0b4d0c4d5a1b"
      },
      "source": [
        " y, _ = librosa.load(\"guitar1.mpeg\",sr=None)"
      ],
      "execution_count": 291,
      "outputs": [
        {
          "output_type": "stream",
          "text": [
            "/usr/local/lib/python3.7/dist-packages/librosa/core/audio.py:162: UserWarning: PySoundFile failed. Trying audioread instead.\n",
            "  warnings.warn(\"PySoundFile failed. Trying audioread instead.\")\n"
          ],
          "name": "stderr"
        }
      ]
    },
    {
      "cell_type": "code",
      "metadata": {
        "colab": {
          "base_uri": "https://localhost:8080/"
        },
        "id": "SGa-jfaaZjdi",
        "outputId": "535ed62a-d3f7-4416-8a28-ea337805c747"
      },
      "source": [
        "y"
      ],
      "execution_count": 292,
      "outputs": [
        {
          "output_type": "execute_result",
          "data": {
            "text/plain": [
              "array([ 0.        ,  0.        ,  0.        , ..., -0.00283813,\n",
              "       -0.00248718, -0.00183105], dtype=float32)"
            ]
          },
          "metadata": {
            "tags": []
          },
          "execution_count": 292
        }
      ]
    },
    {
      "cell_type": "code",
      "metadata": {
        "colab": {
          "base_uri": "https://localhost:8080/",
          "height": 282
        },
        "id": "CMal5I5zZtus",
        "outputId": "2a443eb3-d819-41a8-fdfc-c0c91dbc8727"
      },
      "source": [
        "pd.DataFrame(data=y).plot()"
      ],
      "execution_count": 293,
      "outputs": [
        {
          "output_type": "execute_result",
          "data": {
            "text/plain": [
              "<matplotlib.axes._subplots.AxesSubplot at 0x7ff39e057e10>"
            ]
          },
          "metadata": {
            "tags": []
          },
          "execution_count": 293
        },
        {
          "output_type": "display_data",
          "data": {
            "image/png": "[encoded data removed]",
            "text/plain": [
              "<Figure size 432x288 with 1 Axes>"
            ]
          },
          "metadata": {
            "tags": [],
            "needs_background": "light"
          }
        }
      ]
    },
    {
      "cell_type": "code",
      "metadata": {
        "colab": {
          "base_uri": "https://localhost:8080/"
        },
        "id": "f13WYY6HZwbq",
        "outputId": "2c44b476-ac61-47bd-e656-a3c993cce990"
      },
      "source": [
        " y2, _ = librosa.load(\"guitar2.mpeg\",sr=None)"
      ],
      "execution_count": 294,
      "outputs": [
        {
          "output_type": "stream",
          "text": [
            "/usr/local/lib/python3.7/dist-packages/librosa/core/audio.py:162: UserWarning: PySoundFile failed. Trying audioread instead.\n",
            "  warnings.warn(\"PySoundFile failed. Trying audioread instead.\")\n"
          ],
          "name": "stderr"
        }
      ]
    },
    {
      "cell_type": "code",
      "metadata": {
        "colab": {
          "base_uri": "https://localhost:8080/",
          "height": 282
        },
        "id": "JPfHJLeIbIO4",
        "outputId": "06198f23-bdf6-45f0-9408-8451f45a9fc2"
      },
      "source": [
        "pd.DataFrame(data=y2).plot()"
      ],
      "execution_count": 295,
      "outputs": [
        {
          "output_type": "execute_result",
          "data": {
            "text/plain": [
              "<matplotlib.axes._subplots.AxesSubplot at 0x7ff39e717410>"
            ]
          },
          "metadata": {
            "tags": []
          },
          "execution_count": 295
        },
        {
          "output_type": "display_data",
          "data": {
            "image/png": "[encoded data removed]",
            "text/plain": [
              "<Figure size 432x288 with 1 Axes>"
            ]
          },
          "metadata": {
            "tags": [],
            "needs_background": "light"
          }
        }
      ]
    },
    {
      "cell_type": "code",
      "metadata": {
        "colab": {
          "base_uri": "https://localhost:8080/"
        },
        "id": "SHOzCj7AbMYs",
        "outputId": "c3a9b3a7-0919-4eb0-bdcb-234e76bf9b56"
      },
      "source": [
        "y.shape"
      ],
      "execution_count": 296,
      "outputs": [
        {
          "output_type": "execute_result",
          "data": {
            "text/plain": [
              "(491520,)"
            ]
          },
          "metadata": {
            "tags": []
          },
          "execution_count": 296
        }
      ]
    },
    {
      "cell_type": "code",
      "metadata": {
        "id": "ekUh74vsbYls"
      },
      "source": [
        "y2.shape\r\n",
        "from copy import copy"
      ],
      "execution_count": 297,
      "outputs": []
    },
    {
      "cell_type": "code",
      "metadata": {
        "id": "4ePLW-TccPbN"
      },
      "source": [
        "y_new_1 = copy(y[:min(y.shape[0],y2.shape[0])])"
      ],
      "execution_count": 298,
      "outputs": []
    },
    {
      "cell_type": "code",
      "metadata": {
        "id": "dF6vlIiQcZ50"
      },
      "source": [
        "y_new_2 = copy(y2[:min(y.shape[0],y2.shape[0])])"
      ],
      "execution_count": 299,
      "outputs": []
    },
    {
      "cell_type": "code",
      "metadata": {
        "id": "7fRudrxYc45v"
      },
      "source": [
        "y_diff = y_new_1 - y_new_2\r\n"
      ],
      "execution_count": 300,
      "outputs": []
    },
    {
      "cell_type": "code",
      "metadata": {
        "id": "O7Srwpezc9O5"
      },
      "source": [
        "y_diff_1 = pd.DataFrame(data=y_diff)"
      ],
      "execution_count": 301,
      "outputs": []
    },
    {
      "cell_type": "code",
      "metadata": {
        "colab": {
          "base_uri": "https://localhost:8080/",
          "height": 402
        },
        "id": "0K1rm8ZV37wx",
        "outputId": "b3c07a00-d2ee-4923-c9fa-c386b22405e3"
      },
      "source": [
        "y_diff_1"
      ],
      "execution_count": 324,
      "outputs": [
        {
          "output_type": "execute_result",
          "data": {
            "text/html": [
              "<div>\n",
              "<style scoped>\n",
              "    .dataframe tbody tr th:only-of-type {\n",
              "        vertical-align: middle;\n",
              "    }\n",
              "\n",
              "    .dataframe tbody tr th {\n",
              "        vertical-align: top;\n",
              "    }\n",
              "\n",
              "    .dataframe thead th {\n",
              "        text-align: right;\n",
              "    }\n",
              "</style>\n",
              "<table border=\"1\" class=\"dataframe\">\n",
              "  <thead>\n",
              "    <tr style=\"text-align: right;\">\n",
              "      <th></th>\n",
              "      <th>0</th>\n",
              "    </tr>\n",
              "  </thead>\n",
              "  <tbody>\n",
              "    <tr>\n",
              "      <th>0</th>\n",
              "      <td>0.000000</td>\n",
              "    </tr>\n",
              "    <tr>\n",
              "      <th>1</th>\n",
              "      <td>0.000000</td>\n",
              "    </tr>\n",
              "    <tr>\n",
              "      <th>2</th>\n",
              "      <td>0.000000</td>\n",
              "    </tr>\n",
              "    <tr>\n",
              "      <th>3</th>\n",
              "      <td>0.000000</td>\n",
              "    </tr>\n",
              "    <tr>\n",
              "      <th>4</th>\n",
              "      <td>0.000000</td>\n",
              "    </tr>\n",
              "    <tr>\n",
              "      <th>...</th>\n",
              "      <td>...</td>\n",
              "    </tr>\n",
              "    <tr>\n",
              "      <th>483835</th>\n",
              "      <td>0.000488</td>\n",
              "    </tr>\n",
              "    <tr>\n",
              "      <th>483836</th>\n",
              "      <td>0.000809</td>\n",
              "    </tr>\n",
              "    <tr>\n",
              "      <th>483837</th>\n",
              "      <td>0.001266</td>\n",
              "    </tr>\n",
              "    <tr>\n",
              "      <th>483838</th>\n",
              "      <td>0.001953</td>\n",
              "    </tr>\n",
              "    <tr>\n",
              "      <th>483839</th>\n",
              "      <td>0.002808</td>\n",
              "    </tr>\n",
              "  </tbody>\n",
              "</table>\n",
              "<p>483840 rows × 1 columns</p>\n",
              "</div>"
            ],
            "text/plain": [
              "               0\n",
              "0       0.000000\n",
              "1       0.000000\n",
              "2       0.000000\n",
              "3       0.000000\n",
              "4       0.000000\n",
              "...          ...\n",
              "483835  0.000488\n",
              "483836  0.000809\n",
              "483837  0.001266\n",
              "483838  0.001953\n",
              "483839  0.002808\n",
              "\n",
              "[483840 rows x 1 columns]"
            ]
          },
          "metadata": {
            "tags": []
          },
          "execution_count": 324
        }
      ]
    },
    {
      "cell_type": "code",
      "metadata": {
        "colab": {
          "base_uri": "https://localhost:8080/"
        },
        "id": "MTFDCtQ-r0a9",
        "outputId": "8817d2d8-4da2-44e6-b2a5-070af004ce4b"
      },
      "source": [
        "avg_amp[0]['average_amplitude']"
      ],
      "execution_count": 302,
      "outputs": [
        {
          "output_type": "execute_result",
          "data": {
            "text/plain": [
              "0    6.045594\n",
              "1    9.806274\n",
              "2    8.508127\n",
              "3    3.643975\n",
              "4    1.851817\n",
              "5    1.052861\n",
              "6    0.937132\n",
              "Name: average_amplitude, dtype: float64"
            ]
          },
          "metadata": {
            "tags": []
          },
          "execution_count": 302
        }
      ]
    },
    {
      "cell_type": "code",
      "metadata": {
        "colab": {
          "base_uri": "https://localhost:8080/"
        },
        "id": "D0MLSAtusJT7",
        "outputId": "8a3f91ad-c2cf-4b76-aca6-0b1e51d5f293"
      },
      "source": [
        "avg_amp[1]['average_amplitude']"
      ],
      "execution_count": 303,
      "outputs": [
        {
          "output_type": "execute_result",
          "data": {
            "text/plain": [
              "0     6.914771\n",
              "1    10.590899\n",
              "2     8.813135\n",
              "3     4.064044\n",
              "4     1.977722\n",
              "5     1.121629\n",
              "6     0.803054\n",
              "Name: average_amplitude, dtype: float64"
            ]
          },
          "metadata": {
            "tags": []
          },
          "execution_count": 303
        }
      ]
    },
    {
      "cell_type": "code",
      "metadata": {
        "colab": {
          "base_uri": "https://localhost:8080/"
        },
        "id": "2LqdEM92sbWc",
        "outputId": "61e129c8-cf61-4c9f-d8e3-d454aebb7952"
      },
      "source": [
        "10/7"
      ],
      "execution_count": 304,
      "outputs": [
        {
          "output_type": "execute_result",
          "data": {
            "text/plain": [
              "1.4285714285714286"
            ]
          },
          "metadata": {
            "tags": []
          },
          "execution_count": 304
        }
      ]
    },
    {
      "cell_type": "code",
      "metadata": {
        "id": "_N4ZvgTvs1NT"
      },
      "source": [
        "diff = avg_amp[0]['average_amplitude'] - avg_amp[1]['average_amplitude']"
      ],
      "execution_count": 305,
      "outputs": []
    },
    {
      "cell_type": "code",
      "metadata": {
        "colab": {
          "base_uri": "https://localhost:8080/"
        },
        "id": "W56PRJw1tiHD",
        "outputId": "0d6122a5-d4be-491c-e0a2-0fbd4955ce14"
      },
      "source": [
        "diff"
      ],
      "execution_count": 306,
      "outputs": [
        {
          "output_type": "execute_result",
          "data": {
            "text/plain": [
              "0   -0.869176\n",
              "1   -0.784625\n",
              "2   -0.305008\n",
              "3   -0.420069\n",
              "4   -0.125905\n",
              "5   -0.068768\n",
              "6    0.134078\n",
              "Name: average_amplitude, dtype: float64"
            ]
          },
          "metadata": {
            "tags": []
          },
          "execution_count": 306
        }
      ]
    },
    {
      "cell_type": "code",
      "metadata": {
        "id": "p0i7Mb9It4vD"
      },
      "source": [
        "\r\n",
        "time_end = time.time()"
      ],
      "execution_count": 307,
      "outputs": []
    },
    {
      "cell_type": "code",
      "metadata": {
        "id": "XPhCk0fVuUSY"
      },
      "source": [
        ""
      ],
      "execution_count": 323,
      "outputs": []
    },
    {
      "cell_type": "code",
      "metadata": {
        "colab": {
          "base_uri": "https://localhost:8080/"
        },
        "id": "hoRQN6LYvChI",
        "outputId": "23e554ce-ee44-4a49-f096-0f4c18a38e33"
      },
      "source": [
        "for idx,val in enumerate(diff):\r\n",
        "  if abs(val) >=0 and abs(val) <=0.3: \r\n",
        "    print(True,idx)\r\n",
        "  else:\r\n",
        "    print(False,round(idx*1.4,2))\r\n",
        "\r\n"
      ],
      "execution_count": 309,
      "outputs": [
        {
          "output_type": "stream",
          "text": [
            "False 0.0\n",
            "False 1.4\n",
            "False 2.8\n",
            "False 4.2\n",
            "True 4\n",
            "True 5\n",
            "True 6\n"
          ],
          "name": "stdout"
        }
      ]
    },
    {
      "cell_type": "code",
      "metadata": {
        "colab": {
          "base_uri": "https://localhost:8080/"
        },
        "id": "Hdqc47r4v-I2",
        "outputId": "abbedb3b-9873-4021-a86a-8ad0ba823e08"
      },
      "source": [
        "# filename = librosa.load(\"guitar1\")\r\n",
        "\r\n",
        "filename = \"guitar1.mpeg\"\r\n",
        "# 2. Load the audio as a waveform `y`\r\n",
        "#    Store the sampling rate as `sr`\r\n",
        "y, sr = librosa.load(filename)\r\n",
        "\r\n",
        "# 3. Run the default beat tracker\r\n",
        "tempo, beat_frames = librosa.beat.beat_track(y=y, sr=sr)\r\n",
        "\r\n",
        "print('Estimated tempo: {:.2f} beats per minute'.format(tempo))\r\n",
        "\r\n",
        "# 4. Convert the frame indices of beat events into timestamps\r\n",
        "beat_times = librosa.frames_to_time(beat_frames, sr=sr)"
      ],
      "execution_count": 325,
      "outputs": [
        {
          "output_type": "stream",
          "text": [
            "/usr/local/lib/python3.7/dist-packages/librosa/core/audio.py:162: UserWarning: PySoundFile failed. Trying audioread instead.\n",
            "  warnings.warn(\"PySoundFile failed. Trying audioread instead.\")\n"
          ],
          "name": "stderr"
        },
        {
          "output_type": "stream",
          "text": [
            "Estimated tempo: 136.00 beats per minute\n"
          ],
          "name": "stdout"
        }
      ]
    },
    {
      "cell_type": "code",
      "metadata": {
        "id": "0rx8xHxa2YUP"
      },
      "source": [
        "def get_beats(filename=None):\r\n",
        "  if filename:\r\n",
        "    y,sr =librosa.load(filename)\r\n",
        "    tempo, beat_frames = librosa.beat.beat_track(y=y, sr=sr)\r\n",
        "    print('Estimated tempo: {:.2f} beats per minute'.format(tempo))\r\n",
        "    beat_times = librosa.frames_to_time(beat_frames, sr=sr)\r\n",
        "    return beat_times \r\n",
        "  raise Exception(\"filename not provided\")"
      ],
      "execution_count": 328,
      "outputs": []
    },
    {
      "cell_type": "code",
      "metadata": {
        "colab": {
          "base_uri": "https://localhost:8080/"
        },
        "id": "FvfKVx0x2rIl",
        "outputId": "dbe0d067-1790-4b31-99b0-c4717c041367"
      },
      "source": [
        "g1= get_beats(\"guitar1.mpeg\")\r\n",
        "g2  = get_beats(\"guitar2.mpeg\")\r\n",
        "filename = librosa.example('nutcracker')\r\n",
        "g3 = get_beats(filename)"
      ],
      "execution_count": 366,
      "outputs": [
        {
          "output_type": "stream",
          "text": [
            "/usr/local/lib/python3.7/dist-packages/librosa/core/audio.py:162: UserWarning: PySoundFile failed. Trying audioread instead.\n",
            "  warnings.warn(\"PySoundFile failed. Trying audioread instead.\")\n"
          ],
          "name": "stderr"
        },
        {
          "output_type": "stream",
          "text": [
            "Estimated tempo: 136.00 beats per minute\n"
          ],
          "name": "stdout"
        },
        {
          "output_type": "stream",
          "text": [
            "/usr/local/lib/python3.7/dist-packages/librosa/core/audio.py:162: UserWarning: PySoundFile failed. Trying audioread instead.\n",
            "  warnings.warn(\"PySoundFile failed. Trying audioread instead.\")\n",
            "Downloading file 'Kevin_MacLeod_-_P_I_Tchaikovsky_Dance_of_the_Sugar_Plum_Fairy.ogg' from 'https://librosa.org/data/audio/Kevin_MacLeod_-_P_I_Tchaikovsky_Dance_of_the_Sugar_Plum_Fairy.ogg' to '/root/.cache/librosa'.\n"
          ],
          "name": "stderr"
        },
        {
          "output_type": "stream",
          "text": [
            "Estimated tempo: 66.26 beats per minute\n",
            "Estimated tempo: 107.67 beats per minute\n"
          ],
          "name": "stdout"
        }
      ]
    },
    {
      "cell_type": "code",
      "metadata": {
        "id": "q0P9OksX6qDR"
      },
      "source": [
        "g2 = g2.tolist()\r\n",
        "g1= g1.tolist()\r\n",
        "g3 = g3.tolist()"
      ],
      "execution_count": 367,
      "outputs": []
    },
    {
      "cell_type": "code",
      "metadata": {
        "colab": {
          "base_uri": "https://localhost:8080/"
        },
        "id": "XNId3p_26w35",
        "outputId": "9ff35925-cbf7-45b9-c1db-ed5b09a177a3"
      },
      "source": [
        "for i in range(len(g3)): \r\n",
        "  try: \r\n",
        "    val = abs(round(g3[i]-g2[i],3))\r\n",
        "    if val > 0.1:\r\n",
        "      print(i+1,round(g3[i],3))\r\n",
        "  except Exception as e:\r\n",
        "    print(\"BEAT COUNT MISMATCH\")\r\n",
        "    break\r\n",
        "    \r\n"
      ],
      "execution_count": 368,
      "outputs": [
        {
          "output_type": "stream",
          "text": [
            "1 1.184\n",
            "2 1.718\n",
            "3 2.322\n",
            "4 2.879\n",
            "5 3.46\n",
            "6 4.017\n",
            "7 4.598\n",
            "8 5.132\n",
            "BEAT COUNT MISMATCH\n"
          ],
          "name": "stdout"
        }
      ]
    },
    {
      "cell_type": "code",
      "metadata": {
        "colab": {
          "base_uri": "https://localhost:8080/"
        },
        "id": "PYAvMOSM60Rp",
        "outputId": "95386840-a939-41eb-d7ad-93ad5c8f0949"
      },
      "source": [
        "g1"
      ],
      "execution_count": 361,
      "outputs": [
        {
          "output_type": "execute_result",
          "data": {
            "text/plain": [
              "[0.06965986394557823,\n",
              " 0.5108390022675737,\n",
              " 0.9984580498866213,\n",
              " 1.4396371882086167,\n",
              " 1.9040362811791383,\n",
              " 2.345215419501134,\n",
              " 2.8792743764172335,\n",
              " 3.3901133786848074,\n",
              " 3.8312925170068026,\n",
              " 4.295691609977324,\n",
              " 4.73687074829932,\n",
              " 5.340589569160998,\n",
              " 5.804988662131519,\n",
              " 6.246167800453515,\n",
              " 6.710566893424036,\n",
              " 7.151746031746032,\n",
              " 7.75546485260771,\n",
              " 8.219863945578231,\n",
              " 8.6378231292517]"
            ]
          },
          "metadata": {
            "tags": []
          },
          "execution_count": 361
        }
      ]
    },
    {
      "cell_type": "code",
      "metadata": {
        "colab": {
          "base_uri": "https://localhost:8080/"
        },
        "id": "YIffR90P-CVW",
        "outputId": "dfbcb6dd-d04f-489d-855d-425086c3bed7"
      },
      "source": [
        "g2"
      ],
      "execution_count": 362,
      "outputs": [
        {
          "output_type": "execute_result",
          "data": {
            "text/plain": [
              "[0.301859410430839,\n",
              " 1.1145578231292517,\n",
              " 2.136235827664399,\n",
              " 3.0418140589569163,\n",
              " 3.8080725623582765,\n",
              " 4.551111111111111,\n",
              " 5.433469387755102,\n",
              " 6.339047619047619]"
            ]
          },
          "metadata": {
            "tags": []
          },
          "execution_count": 362
        }
      ]
    },
    {
      "cell_type": "code",
      "metadata": {
        "colab": {
          "base_uri": "https://localhost:8080/"
        },
        "id": "F_vHL8EO-EPV",
        "outputId": "88645dd7-d428-444b-a3b9-15395209b6e1"
      },
      "source": [
        "g3"
      ],
      "execution_count": 369,
      "outputs": [
        {
          "output_type": "execute_result",
          "data": {
            "text/plain": [
              "[1.18421768707483,\n",
              " 1.7182766439909296,\n",
              " 2.3219954648526078,\n",
              " 2.8792743764172335,\n",
              " 3.4597732426303853,\n",
              " 4.017052154195011,\n",
              " 4.597551020408163,\n",
              " 5.131609977324263,\n",
              " 5.735328798185941,\n",
              " 6.292607709750567,\n",
              " 6.849886621315193,\n",
              " 7.4071655328798185,\n",
              " 7.987664399092971,\n",
              " 8.544943310657596,\n",
              " 9.125442176870749,\n",
              " 9.659501133786849,\n",
              " 10.216780045351474,\n",
              " 10.727619047619047,\n",
              " 11.284897959183674,\n",
              " 11.795736961451247,\n",
              " 12.329795918367347,\n",
              " 12.863854875283447,\n",
              " 13.421133786848072,\n",
              " 13.955192743764172,\n",
              " 14.489251700680272,\n",
              " 15.023310657596372,\n",
              " 15.557369614512472,\n",
              " 16.091428571428573,\n",
              " 16.62548752834467,\n",
              " 17.159546485260773,\n",
              " 17.69360544217687,\n",
              " 18.250884353741498,\n",
              " 18.808163265306124,\n",
              " 19.319002267573698,\n",
              " 19.87628117913832,\n",
              " 20.387120181405894,\n",
              " 20.921179138321996,\n",
              " 21.455238095238094,\n",
              " 21.989297052154196,\n",
              " 22.523356009070294,\n",
              " 23.057414965986396,\n",
              " 23.591473922902495,\n",
              " 24.125532879818593,\n",
              " 24.659591836734695,\n",
              " 25.193650793650793,\n",
              " 25.727709750566895,\n",
              " 26.261768707482993,\n",
              " 26.81904761904762,\n",
              " 27.353106575963718,\n",
              " 27.88716553287982,\n",
              " 28.444444444444443,\n",
              " 29.00172335600907,\n",
              " 29.559002267573696,\n",
              " 30.116281179138323,\n",
              " 30.67356009070295,\n",
              " 31.207619047619048,\n",
              " 31.7881179138322,\n",
              " 32.345396825396826,\n",
              " 32.8562358276644,\n",
              " 33.36707482993197,\n",
              " 33.90113378684807,\n",
              " 34.43519274376417,\n",
              " 34.94603174603174,\n",
              " 35.456870748299316,\n",
              " 35.99092970521542,\n",
              " 36.52498866213152,\n",
              " 37.03582766439909,\n",
              " 37.56988662131519,\n",
              " 38.12716553287982,\n",
              " 38.66122448979592,\n",
              " 39.21850340136054,\n",
              " 39.75256235827664,\n",
              " 40.30984126984127,\n",
              " 40.84390022675737,\n",
              " 41.40117913832199,\n",
              " 41.9352380952381,\n",
              " 42.4692970521542,\n",
              " 43.02657596371882,\n",
              " 43.56063492063492,\n",
              " 44.11791383219955,\n",
              " 44.67519274376417,\n",
              " 45.20925170068027,\n",
              " 45.7665306122449,\n",
              " 46.300589569161,\n",
              " 46.85786848072562,\n",
              " 47.41514739229025,\n",
              " 47.94920634920635,\n",
              " 48.48326530612245,\n",
              " 48.99410430839002,\n",
              " 49.504943310657595,\n",
              " 50.03900226757369,\n",
              " 50.54984126984127,\n",
              " 51.08390022675737,\n",
              " 51.61795918367347,\n",
              " 52.10557823129252,\n",
              " 52.61641723356009,\n",
              " 53.173696145124715,\n",
              " 53.707755102040814,\n",
              " 54.24181405895692,\n",
              " 54.77587301587302,\n",
              " 55.28671201814059,\n",
              " 55.82077097505669,\n",
              " 56.35482993197279,\n",
              " 56.91210884353742,\n",
              " 57.446167800453516,\n",
              " 58.00344671201814,\n",
              " 58.56072562358277,\n",
              " 59.09478458049887,\n",
              " 59.628843537414966,\n",
              " 60.18612244897959,\n",
              " 60.720181405895694,\n",
              " 61.27746031746032,\n",
              " 61.811519274376415,\n",
              " 62.32235827664399,\n",
              " 62.83319727891156,\n",
              " 63.36725623582767,\n",
              " 63.901315192743766,\n",
              " 64.43537414965986,\n",
              " 64.94621315192744,\n",
              " 65.45705215419501,\n",
              " 65.99111111111111,\n",
              " 66.50195011337868,\n",
              " 67.03600907029478,\n",
              " 67.57006802721088,\n",
              " 68.10412698412698,\n",
              " 68.63818594104309,\n",
              " 69.17224489795919,\n",
              " 69.72952380952381,\n",
              " 70.28680272108843,\n",
              " 70.84408163265306,\n",
              " 71.40136054421768,\n",
              " 71.98185941043084,\n",
              " 72.56235827664399,\n",
              " 73.14285714285714,\n",
              " 73.70013605442176,\n",
              " 74.28063492063492,\n",
              " 74.83791383219955,\n",
              " 75.37197278911565,\n",
              " 75.90603174603174,\n",
              " 76.50975056689343,\n",
              " 77.04380952380953,\n",
              " 77.62430839002268,\n",
              " 78.1815873015873,\n",
              " 78.73886621315192,\n",
              " 79.29614512471656,\n",
              " 79.85342403628118,\n",
              " 80.38748299319728,\n",
              " 80.92154195011338,\n",
              " 81.478820861678,\n",
              " 82.05931972789115,\n",
              " 82.66303854875284,\n",
              " 83.26675736961451,\n",
              " 83.8704761904762,\n",
              " 84.45097505668934,\n",
              " 85.07791383219954,\n",
              " 85.6584126984127,\n",
              " 86.26213151927438,\n",
              " 86.84263038548752,\n",
              " 87.44634920634921,\n",
              " 88.02684807256236,\n",
              " 88.63056689342403,\n",
              " 89.2110657596372,\n",
              " 89.76834467120182,\n",
              " 90.34884353741496,\n",
              " 90.92934240362811,\n",
              " 91.48662131519275,\n",
              " 92.0671201814059,\n",
              " 92.64761904761905,\n",
              " 93.20489795918367,\n",
              " 93.7621768707483,\n",
              " 94.34267573696145,\n",
              " 94.89995464852608,\n",
              " 95.48045351473922,\n",
              " 96.03773242630386,\n",
              " 96.59501133786848,\n",
              " 97.15229024943311,\n",
              " 97.70956916099773,\n",
              " 98.26684807256235,\n",
              " 98.82412698412699,\n",
              " 99.38140589569161,\n",
              " 99.93868480725624,\n",
              " 100.47274376417234,\n",
              " 101.05324263038548,\n",
              " 101.58730158730158,\n",
              " 102.16780045351474,\n",
              " 102.70185941043084,\n",
              " 103.25913832199547,\n",
              " 103.81641723356009,\n",
              " 104.37369614512471,\n",
              " 104.93097505668935,\n",
              " 105.48825396825397,\n",
              " 106.0455328798186,\n",
              " 106.60281179138322,\n",
              " 107.16009070294784,\n",
              " 107.71736961451248,\n",
              " 108.25142857142858,\n",
              " 108.8087074829932,\n",
              " 109.36598639455782,\n",
              " 109.92326530612245,\n",
              " 110.48054421768707,\n",
              " 111.0378231292517,\n",
              " 111.59510204081633,\n",
              " 112.15238095238095,\n",
              " 112.70965986394557,\n",
              " 113.24371882086167,\n",
              " 113.80099773242631,\n",
              " 114.38149659863946,\n",
              " 114.93877551020408,\n",
              " 115.47283446712018,\n",
              " 116.0301133786848,\n",
              " 116.58739229024944,\n",
              " 117.14467120181406]"
            ]
          },
          "metadata": {
            "tags": []
          },
          "execution_count": 369
        }
      ]
    },
    {
      "cell_type": "code",
      "metadata": {
        "colab": {
          "base_uri": "https://localhost:8080/"
        },
        "id": "EByjHXQWCU2u",
        "outputId": "f1634c96-14ce-4e85-fdf7-4f6c5ef6b85a"
      },
      "source": [
        "!pip install aubio\r\n"
      ],
      "execution_count": 370,
      "outputs": [
        {
          "output_type": "stream",
          "text": [
            "Collecting aubio\n",
            "\u001b[?25l  Downloading https://files.pythonhosted.org/packages/cd/80/302d89240603e5347c7f8026c8b02c59f8dfaec66c91a743d82de7c86006/aubio-0.4.9.tar.gz (479kB)\n",
            "\r\u001b[K     |▊                               | 10kB 12.2MB/s eta 0:00:01\r\u001b[K     |█▍                              | 20kB 18.0MB/s eta 0:00:01\r\u001b[K     |██                              | 30kB 10.8MB/s eta 0:00:01\r\u001b[K     |██▊                             | 40kB 9.0MB/s eta 0:00:01\r\u001b[K     |███▍                            | 51kB 7.0MB/s eta 0:00:01\r\u001b[K     |████                            | 61kB 7.5MB/s eta 0:00:01\r\u001b[K     |████▉                           | 71kB 7.2MB/s eta 0:00:01\r\u001b[K     |█████▌                          | 81kB 7.6MB/s eta 0:00:01\r\u001b[K     |██████▏                         | 92kB 8.0MB/s eta 0:00:01\r\u001b[K     |██████▉                         | 102kB 8.3MB/s eta 0:00:01\r\u001b[K     |███████▌                        | 112kB 8.3MB/s eta 0:00:01\r\u001b[K     |████████▏                       | 122kB 8.3MB/s eta 0:00:01\r\u001b[K     |█████████                       | 133kB 8.3MB/s eta 0:00:01\r\u001b[K     |█████████▋                      | 143kB 8.3MB/s eta 0:00:01\r\u001b[K     |██████████▎                     | 153kB 8.3MB/s eta 0:00:01\r\u001b[K     |███████████                     | 163kB 8.3MB/s eta 0:00:01\r\u001b[K     |███████████▋                    | 174kB 8.3MB/s eta 0:00:01\r\u001b[K     |████████████▎                   | 184kB 8.3MB/s eta 0:00:01\r\u001b[K     |█████████████                   | 194kB 8.3MB/s eta 0:00:01\r\u001b[K     |█████████████▊                  | 204kB 8.3MB/s eta 0:00:01\r\u001b[K     |██████████████▍                 | 215kB 8.3MB/s eta 0:00:01\r\u001b[K     |███████████████                 | 225kB 8.3MB/s eta 0:00:01\r\u001b[K     |███████████████▊                | 235kB 8.3MB/s eta 0:00:01\r\u001b[K     |████████████████▍               | 245kB 8.3MB/s eta 0:00:01\r\u001b[K     |█████████████████               | 256kB 8.3MB/s eta 0:00:01\r\u001b[K     |█████████████████▉              | 266kB 8.3MB/s eta 0:00:01\r\u001b[K     |██████████████████▌             | 276kB 8.3MB/s eta 0:00:01\r\u001b[K     |███████████████████▏            | 286kB 8.3MB/s eta 0:00:01\r\u001b[K     |███████████████████▉            | 296kB 8.3MB/s eta 0:00:01\r\u001b[K     |████████████████████▌           | 307kB 8.3MB/s eta 0:00:01\r\u001b[K     |█████████████████████▏          | 317kB 8.3MB/s eta 0:00:01\r\u001b[K     |██████████████████████          | 327kB 8.3MB/s eta 0:00:01\r\u001b[K     |██████████████████████▋         | 337kB 8.3MB/s eta 0:00:01\r\u001b[K     |███████████████████████▎        | 348kB 8.3MB/s eta 0:00:01\r\u001b[K     |████████████████████████        | 358kB 8.3MB/s eta 0:00:01\r\u001b[K     |████████████████████████▋       | 368kB 8.3MB/s eta 0:00:01\r\u001b[K     |█████████████████████████▎      | 378kB 8.3MB/s eta 0:00:01\r\u001b[K     |██████████████████████████      | 389kB 8.3MB/s eta 0:00:01\r\u001b[K     |██████████████████████████▊     | 399kB 8.3MB/s eta 0:00:01\r\u001b[K     |███████████████████████████▍    | 409kB 8.3MB/s eta 0:00:01\r\u001b[K     |████████████████████████████    | 419kB 8.3MB/s eta 0:00:01\r\u001b[K     |████████████████████████████▊   | 430kB 8.3MB/s eta 0:00:01\r\u001b[K     |█████████████████████████████▍  | 440kB 8.3MB/s eta 0:00:01\r\u001b[K     |██████████████████████████████  | 450kB 8.3MB/s eta 0:00:01\r\u001b[K     |██████████████████████████████▉ | 460kB 8.3MB/s eta 0:00:01\r\u001b[K     |███████████████████████████████▌| 471kB 8.3MB/s eta 0:00:01\r\u001b[K     |████████████████████████████████| 481kB 8.3MB/s \n",
            "\u001b[?25hRequirement already satisfied: numpy in /usr/local/lib/python3.7/dist-packages (from aubio) (1.19.5)\n",
            "Building wheels for collected packages: aubio\n",
            "  Building wheel for aubio (setup.py) ... \u001b[?25l\u001b[?25hdone\n",
            "  Created wheel for aubio: filename=aubio-0.4.9-cp37-cp37m-linux_x86_64.whl size=390029 sha256=b7eb8972ac2571f591e2b88b1a833645c0d84b9d39c2535fa92a1d914f513f9a\n",
            "  Stored in directory: /root/.cache/pip/wheels/ac/93/da/33a0041dff56d6c1faf82c83ff487cf669442b7087db20a995\n",
            "Successfully built aubio\n",
            "Installing collected packages: aubio\n",
            "Successfully installed aubio-0.4.9\n"
          ],
          "name": "stdout"
        }
      ]
    },
    {
      "cell_type": "code",
      "metadata": {
        "id": "cJ3ANDrDKSJc"
      },
      "source": [
        "-"
      ],
      "execution_count": null,
      "outputs": []
    }
  ]
}